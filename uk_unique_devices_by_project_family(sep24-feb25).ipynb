{
 "cells": [
  {
   "cell_type": "markdown",
   "id": "a8136a3a-611c-4596-b6f9-f158a235eca1",
   "metadata": {},
   "source": [
    "# UK Wikipedia Unique Devices by Project Family"
   ]
  },
  {
   "cell_type": "markdown",
   "id": "165ccf4b-ae0c-4082-8e50-aaa7922c1568",
   "metadata": {},
   "source": [
    "## Task Description:\n",
    "\n",
    "- Create updated UK monthly user count estimates for Wikipedia - for period 20240901 - 20250228.\n",
    "- If possible, we want help to demonstrate that features like Special:Nearby and Special:NewPagesFeed are not used by many (UK) users.\n",
    "- [Asana Task](https://app.asana.com/1/3758245663860/task/1209810804894230?focus=true)\n",
    "- [T390785](https://phabricator.wikimedia.org/T390785)"
   ]
  },
  {
   "cell_type": "markdown",
   "id": "10e90e8d-b2c9-421b-bbdc-f861f9718aaa",
   "metadata": {},
   "source": [
    "## Methodology and Data Sources: \n",
    "\n",
    "Unique devices per project family data comes from the [unique_devices_per_project_family_monthly](https://github.com/wikimedia/analytics-refinery/blob/master/oozie/unique_devices/per_project_family/monthly/unique_devices_per_project_family_monthly.hql). \n",
    "\n",
    "**Metric**: The `uniques_estimate` average over the last 6 months (Sep 2024 through Feb 2025). Data limited to only countries within European Union.\n",
    "\n",
    "**Important note**: Unique devices by family metrics were inflated between July to Nov 2024 which was fixed and backfilled by Jan 2025. \n",
    "For more info, read [2024-09-20 Unique Devices by Family Inflated Due to Miscategorized Traffic](https://wikitech.wikimedia.org/wiki/Data_Platform/Data_Lake/Data_Issues/2024-09-20_Unique_Devices_by_Family_Inflated_Due_to_Miscategorized_Traffic)\n"
   ]
  },
  {
   "cell_type": "code",
   "execution_count": 1,
   "id": "28feb82c-e305-4b64-a73d-7e7c5016043f",
   "metadata": {},
   "outputs": [],
   "source": [
    "import pandas as pd\n",
    "import wmfdata as wmf"
   ]
  },
  {
   "cell_type": "markdown",
   "id": "ed6cd632-d988-4fad-bfaa-2cf3f4409171",
   "metadata": {},
   "source": [
    "## UK Wikipedia Unique Devices by Project Family"
   ]
  },
  {
   "cell_type": "code",
   "execution_count": 2,
   "id": "4c57ad82-e1ee-42c4-9b0f-5a1c4c40170d",
   "metadata": {},
   "outputs": [],
   "source": [
    "query = '''\n",
    "\n",
    "SELECT\n",
    "    project_family,\n",
    "    country_code,\n",
    "    ud.year,\n",
    "    ud.month,\n",
    "    SUM(ud.uniques_estimate) as unique_devices\n",
    "  FROM wmf.unique_devices_per_project_family_monthly ud\n",
    "  WHERE \n",
    "  -- UK unique devices only  \n",
    "    ud.country_code = 'GB'\n",
    "    \n",
    "   -- Wikipedia UK unique devices only  \n",
    "    AND project_family = 'wikipedia' \n",
    "    \n",
    "  -- time period: September 1, 2024 thru Feb 28, 2025\n",
    "    AND (\n",
    "    (YEAR = 2024 AND MONTH > 08)\n",
    "    OR\n",
    "    (YEAR = 2025 AND MONTH < 03))\n",
    "    \n",
    "  GROUP BY \n",
    "    project_family,\n",
    "    country_code,\n",
    "    year,\n",
    "    month\n",
    "\n",
    "'''"
   ]
  },
  {
   "cell_type": "code",
   "execution_count": 3,
   "id": "f5c13c40-a280-45ed-b58a-a3723f683f2c",
   "metadata": {},
   "outputs": [
    {
     "name": "stdout",
     "output_type": "stream",
     "text": [
      "SPARK_HOME: /srv/home/mayakpwiki/.conda/envs/2025-03-21T23.13.13_mayakpwiki/lib/python3.10/site-packages/pyspark\n",
      "Using Hadoop client lib jars at 3.2.0, provided by Spark.\n",
      "PYSPARK_PYTHON=/opt/conda-analytics/bin/python3\n"
     ]
    },
    {
     "name": "stderr",
     "output_type": "stream",
     "text": [
      "Setting default log level to \"WARN\".\n",
      "To adjust logging level use sc.setLogLevel(newLevel). For SparkR, use setLogLevel(newLevel).\n",
      "25/04/16 20:30:41 WARN SparkConf: Note that spark.local.dir will be overridden by the value set by the cluster manager (via SPARK_LOCAL_DIRS in mesos/standalone/kubernetes and LOCAL_DIRS in YARN).\n",
      "25/04/16 20:30:41 WARN Utils: Service 'sparkDriver' could not bind on port 12000. Attempting port 12001.\n",
      "25/04/16 20:30:42 WARN Utils: Service 'SparkUI' could not bind on port 4040. Attempting port 4041.\n",
      "25/04/16 20:30:44 WARN Client: Exception encountered while connecting to the server : org.apache.hadoop.ipc.RemoteException(org.apache.hadoop.ipc.StandbyException): Operation category READ is not supported in state standby. Visit https://s.apache.org/sbnn-error\n",
      "25/04/16 20:30:44 WARN Client: Exception encountered while connecting to the server : org.apache.hadoop.ipc.RemoteException(org.apache.hadoop.ipc.StandbyException): Operation category READ is not supported in state standby. Visit https://s.apache.org/sbnn-error\n",
      "25/04/16 20:30:45 WARN Client: Exception encountered while connecting to the server : org.apache.hadoop.ipc.RemoteException(org.apache.hadoop.ipc.StandbyException): Operation category READ is not supported in state standby. Visit https://s.apache.org/sbnn-error\n",
      "25/04/16 20:30:50 WARN Utils: Service 'org.apache.spark.network.netty.NettyBlockTransferService' could not bind on port 13000. Attempting port 13001.\n",
      "25/04/16 20:30:56 WARN SessionState: METASTORE_FILTER_HOOK will be ignored, since hive.security.authorization.manager is set to instance of HiveAuthorizerFactory.\n",
      "                                                                                \r"
     ]
    }
   ],
   "source": [
    "uk_wp_unique_devices = wmf.spark.run(query)"
   ]
  },
  {
   "cell_type": "code",
   "execution_count": 54,
   "id": "c4595e68-e830-4157-bda9-7869d88fc10b",
   "metadata": {},
   "outputs": [
    {
     "data": {
      "text/html": [
       "<div>\n",
       "<style scoped>\n",
       "    .dataframe tbody tr th:only-of-type {\n",
       "        vertical-align: middle;\n",
       "    }\n",
       "\n",
       "    .dataframe tbody tr th {\n",
       "        vertical-align: top;\n",
       "    }\n",
       "\n",
       "    .dataframe thead th {\n",
       "        text-align: right;\n",
       "    }\n",
       "</style>\n",
       "<table border=\"1\" class=\"dataframe\">\n",
       "  <thead>\n",
       "    <tr style=\"text-align: right;\">\n",
       "      <th></th>\n",
       "      <th>project_family</th>\n",
       "      <th>country_code</th>\n",
       "      <th>year</th>\n",
       "      <th>month</th>\n",
       "      <th>unique_devices</th>\n",
       "    </tr>\n",
       "  </thead>\n",
       "  <tbody>\n",
       "    <tr>\n",
       "      <th>3</th>\n",
       "      <td>wikipedia</td>\n",
       "      <td>GB</td>\n",
       "      <td>2024</td>\n",
       "      <td>9</td>\n",
       "      <td>58406575</td>\n",
       "    </tr>\n",
       "    <tr>\n",
       "      <th>4</th>\n",
       "      <td>wikipedia</td>\n",
       "      <td>GB</td>\n",
       "      <td>2024</td>\n",
       "      <td>10</td>\n",
       "      <td>65020642</td>\n",
       "    </tr>\n",
       "    <tr>\n",
       "      <th>0</th>\n",
       "      <td>wikipedia</td>\n",
       "      <td>GB</td>\n",
       "      <td>2024</td>\n",
       "      <td>11</td>\n",
       "      <td>63651189</td>\n",
       "    </tr>\n",
       "    <tr>\n",
       "      <th>2</th>\n",
       "      <td>wikipedia</td>\n",
       "      <td>GB</td>\n",
       "      <td>2024</td>\n",
       "      <td>12</td>\n",
       "      <td>62155538</td>\n",
       "    </tr>\n",
       "    <tr>\n",
       "      <th>5</th>\n",
       "      <td>wikipedia</td>\n",
       "      <td>GB</td>\n",
       "      <td>2025</td>\n",
       "      <td>1</td>\n",
       "      <td>65937400</td>\n",
       "    </tr>\n",
       "    <tr>\n",
       "      <th>1</th>\n",
       "      <td>wikipedia</td>\n",
       "      <td>GB</td>\n",
       "      <td>2025</td>\n",
       "      <td>2</td>\n",
       "      <td>63492529</td>\n",
       "    </tr>\n",
       "  </tbody>\n",
       "</table>\n",
       "</div>"
      ],
      "text/plain": [
       "  project_family country_code  year  month  unique_devices\n",
       "3      wikipedia           GB  2024      9        58406575\n",
       "4      wikipedia           GB  2024     10        65020642\n",
       "0      wikipedia           GB  2024     11        63651189\n",
       "2      wikipedia           GB  2024     12        62155538\n",
       "5      wikipedia           GB  2025      1        65937400\n",
       "1      wikipedia           GB  2025      2        63492529"
      ]
     },
     "execution_count": 54,
     "metadata": {},
     "output_type": "execute_result"
    }
   ],
   "source": [
    "uk_wp_unique_devices.sort_values(by=['year','month'])"
   ]
  },
  {
   "cell_type": "code",
   "execution_count": 67,
   "id": "6a80e344-6ea5-4ecb-81e1-fc7b3af48e8f",
   "metadata": {},
   "outputs": [
    {
     "data": {
      "text/plain": [
       "year                               2024.0\n",
       "month                                 8.0\n",
       "unique_devices                 63110646.0\n",
       "Monthly Avg UK Unique Users    26296000.0\n",
       "dtype: object"
      ]
     },
     "execution_count": 67,
     "metadata": {},
     "output_type": "execute_result"
    }
   ],
   "source": [
    "uk_wp_unique_devices_avg['Monthly Avg UK Unique Users'] = (uk_wp_unique_devices['unique_devices']/2.4).mean().round(-3)\n",
    "uk_wp_unique_devices_avg"
   ]
  },
  {
   "cell_type": "code",
   "execution_count": 55,
   "id": "0ff9b2ae-1736-4f56-b1f6-08ebd49f8d22",
   "metadata": {},
   "outputs": [
    {
     "name": "stderr",
     "output_type": "stream",
     "text": [
      "/tmp/ipykernel_1554550/284208590.py:1: FutureWarning: The default value of numeric_only in DataFrameGroupBy.mean is deprecated. In a future version, numeric_only will default to False. Either specify numeric_only or select only columns which should be valid for the function.\n",
      "  uk_wp_unique_devices_avg = (uk_wp_unique_devices.groupby(['project_family']).mean().round().reset_index())\n"
     ]
    }
   ],
   "source": [
    "uk_wp_unique_devices_avg = (uk_wp_unique_devices.groupby(['project_family']).mean().round().reset_index())"
   ]
  },
  {
   "cell_type": "code",
   "execution_count": 56,
   "id": "be05aae7-82f9-408c-a283-65af47f75182",
   "metadata": {},
   "outputs": [
    {
     "data": {
      "text/html": [
       "<div>\n",
       "<style scoped>\n",
       "    .dataframe tbody tr th:only-of-type {\n",
       "        vertical-align: middle;\n",
       "    }\n",
       "\n",
       "    .dataframe tbody tr th {\n",
       "        vertical-align: top;\n",
       "    }\n",
       "\n",
       "    .dataframe thead th {\n",
       "        text-align: right;\n",
       "    }\n",
       "</style>\n",
       "<table border=\"1\" class=\"dataframe\">\n",
       "  <thead>\n",
       "    <tr style=\"text-align: right;\">\n",
       "      <th></th>\n",
       "      <th>project_family</th>\n",
       "      <th>year</th>\n",
       "      <th>month</th>\n",
       "      <th>unique_devices</th>\n",
       "    </tr>\n",
       "  </thead>\n",
       "  <tbody>\n",
       "    <tr>\n",
       "      <th>0</th>\n",
       "      <td>wikipedia</td>\n",
       "      <td>2024.0</td>\n",
       "      <td>8.0</td>\n",
       "      <td>63110646.0</td>\n",
       "    </tr>\n",
       "  </tbody>\n",
       "</table>\n",
       "</div>"
      ],
      "text/plain": [
       "  project_family    year  month  unique_devices\n",
       "0      wikipedia  2024.0    8.0      63110646.0"
      ]
     },
     "execution_count": 56,
     "metadata": {},
     "output_type": "execute_result"
    }
   ],
   "source": [
    "uk_wp_unique_devices_avg"
   ]
  },
  {
   "cell_type": "markdown",
   "id": "c7abf1b6-fa88-4448-9bf7-4bb749f9a711",
   "metadata": {},
   "source": [
    "Using the 2.4 factor to estimate unique users from unique devices  \n",
    "[Cisco Annual Internet Report (2018–2023)](https://www.cisco.com/c/en/us/solutions/collateral/executive-perspectives/annual-internet-report/white-paper-c11-741490.pdf)"
   ]
  },
  {
   "cell_type": "code",
   "execution_count": 57,
   "id": "b3126312-6644-47b2-8b5c-2443aca31377",
   "metadata": {},
   "outputs": [],
   "source": [
    "uk_wp_unique_devices_avg['Monthly Avg UK Unique Users'] = (uk_wp_unique_devices_avg['unique_devices']/2.4).round(-3)"
   ]
  },
  {
   "cell_type": "code",
   "execution_count": 58,
   "id": "a76baa20-bbca-4470-9151-6eca3d94f9ae",
   "metadata": {},
   "outputs": [
    {
     "data": {
      "text/html": [
       "<div>\n",
       "<style scoped>\n",
       "    .dataframe tbody tr th:only-of-type {\n",
       "        vertical-align: middle;\n",
       "    }\n",
       "\n",
       "    .dataframe tbody tr th {\n",
       "        vertical-align: top;\n",
       "    }\n",
       "\n",
       "    .dataframe thead th {\n",
       "        text-align: right;\n",
       "    }\n",
       "</style>\n",
       "<table border=\"1\" class=\"dataframe\">\n",
       "  <thead>\n",
       "    <tr style=\"text-align: right;\">\n",
       "      <th></th>\n",
       "      <th>project_family</th>\n",
       "      <th>year</th>\n",
       "      <th>month</th>\n",
       "      <th>unique_devices</th>\n",
       "      <th>Monthly Avg UK Unique Users</th>\n",
       "    </tr>\n",
       "  </thead>\n",
       "  <tbody>\n",
       "    <tr>\n",
       "      <th>0</th>\n",
       "      <td>wikipedia</td>\n",
       "      <td>2024.0</td>\n",
       "      <td>8.0</td>\n",
       "      <td>63110646.0</td>\n",
       "      <td>26296000.0</td>\n",
       "    </tr>\n",
       "  </tbody>\n",
       "</table>\n",
       "</div>"
      ],
      "text/plain": [
       "  project_family    year  month  unique_devices  Monthly Avg UK Unique Users\n",
       "0      wikipedia  2024.0    8.0      63110646.0                   26296000.0"
      ]
     },
     "execution_count": 58,
     "metadata": {},
     "output_type": "execute_result"
    }
   ],
   "source": [
    "uk_wp_unique_devices_avg"
   ]
  },
  {
   "cell_type": "code",
   "execution_count": null,
   "id": "14dbd695-745f-490b-8777-4dc01ab90346",
   "metadata": {},
   "outputs": [],
   "source": []
  },
  {
   "cell_type": "markdown",
   "id": "73e4ca8e-c25e-4c1f-ae75-129c6cc56ae0",
   "metadata": {},
   "source": [
    "## Requests to Special Pages "
   ]
  },
  {
   "cell_type": "markdown",
   "id": "366c3d6c-ded4-4c3f-a7ee-9c87a3cca2bf",
   "metadata": {},
   "source": [
    "### UK users Special:Nearby and Special:NewPagesFeed \n",
    "We took a sample day of March 25, 2025 to check webrequest and see the number of requests made to these special days. "
   ]
  },
  {
   "cell_type": "code",
   "execution_count": 68,
   "id": "ff6981d9-7836-4f6e-8445-2763d42f06cf",
   "metadata": {},
   "outputs": [
    {
     "name": "stderr",
     "output_type": "stream",
     "text": [
      "                                                                                \r"
     ]
    }
   ],
   "source": [
    "# UK users Special:Nearby and Special:NewPagesFeed \n",
    "\n",
    "UK_special=wmf.spark.run(\"\"\"\n",
    "\n",
    "SELECT\n",
    "COUNT(*),\n",
    "CASE\n",
    "WHEN LOWER(uri_path) like '%special:nearby%' THEN 'special_nearby' \n",
    "WHEN LOWER(uri_path) like '%special:newpagesfeed%' THEN 'special_newpagesfeed'\n",
    "END AS special_page_UK\n",
    "\n",
    "FROM wmf.webrequest\n",
    "WHERE\n",
    "  year = 2025\n",
    "  AND month = 3\n",
    "  --AND hour = 18\n",
    "  AND day = 25\n",
    "  AND geocoded_data['country_code'] = 'GB' \n",
    "  AND (LOWER(uri_path) like '%special:nearby%'\n",
    "  OR\n",
    "  LOWER(uri_path) like '%special:newpagesfeed%')\n",
    "  AND agent_type = 'user'\n",
    "  AND NOT is_pageview\n",
    "GROUP BY\n",
    "CASE\n",
    "WHEN LOWER(uri_path) like '%special:nearby%' THEN 'special_nearby'\n",
    "WHEN LOWER(uri_path) like '%special:newpagesfeed%' THEN 'special_newpagesfeed'\n",
    "END\n",
    "\n",
    "\n",
    "-- we don't need to sample since its a small number of requests. \n",
    "   --AND MOD(HASH(day || hour), 6) IN (0,1,2) -- Select ~16% of every hour \n",
    "  \"\"\")"
   ]
  },
  {
   "cell_type": "code",
   "execution_count": null,
   "id": "06ee900c-3655-492d-821b-96e79740a6bb",
   "metadata": {},
   "outputs": [],
   "source": [
    "UK_special"
   ]
  },
  {
   "cell_type": "markdown",
   "id": "d5f20a24-e840-47cc-8038-9312c43d84f9",
   "metadata": {},
   "source": [
    "The counts are very small, hence should not be publicly shared per our [Data publication guidelines](https://foundation.wikimedia.org/wiki/Legal:Data_publication_guidelines)"
   ]
  },
  {
   "cell_type": "markdown",
   "id": "a3ee0e8e-b70a-47da-8397-0d03001a3b79",
   "metadata": {},
   "source": [
    "### Global users Special:Nearby and Special:NewPagesFeed \n"
   ]
  },
  {
   "cell_type": "code",
   "execution_count": 70,
   "id": "8d9d48fb-68a2-4aa0-b252-1f2702625d66",
   "metadata": {},
   "outputs": [
    {
     "name": "stderr",
     "output_type": "stream",
     "text": [
      "                                                                                \r"
     ]
    }
   ],
   "source": [
    "# Global users Special:Nearby and Special:NewPagesFeed \n",
    "\n",
    "Global_special=wmf.spark.run(\"\"\"\n",
    "\n",
    "SELECT\n",
    "COUNT(*),\n",
    "CASE\n",
    "WHEN LOWER(uri_path) like '%special:nearby%' THEN 'special_nearby' \n",
    "WHEN LOWER(uri_path) like '%special:newpagesfeed%' THEN 'special_newpagesfeed'\n",
    "END AS special_page_Global\n",
    "\n",
    "FROM wmf.webrequest\n",
    "WHERE\n",
    "  year = 2025\n",
    "  AND month = 3\n",
    "  --AND hour = 18\n",
    "  AND day = 25\n",
    "  AND (LOWER(uri_path) like '%special:nearby%'\n",
    "  OR\n",
    "  LOWER(uri_path) like '%special:newpagesfeed%')\n",
    "  AND agent_type = 'user'\n",
    "  AND NOT is_pageview\n",
    "GROUP BY\n",
    "CASE\n",
    "WHEN LOWER(uri_path) like '%special:nearby%' THEN 'special_nearby'\n",
    "WHEN LOWER(uri_path) like '%special:newpagesfeed%' THEN 'special_newpagesfeed'\n",
    "END\n",
    "\n",
    "\n",
    "-- we don't need to sample since its a small number of requests. \n",
    "   --AND MOD(HASH(day || hour), 6) IN (0,1,2) -- Select ~16% of every hour \n",
    "  \"\"\")"
   ]
  },
  {
   "cell_type": "code",
   "execution_count": 71,
   "id": "d389191a-58ed-4024-9c3e-2ba46be0e73d",
   "metadata": {},
   "outputs": [
    {
     "data": {
      "text/html": [
       "<div>\n",
       "<style scoped>\n",
       "    .dataframe tbody tr th:only-of-type {\n",
       "        vertical-align: middle;\n",
       "    }\n",
       "\n",
       "    .dataframe tbody tr th {\n",
       "        vertical-align: top;\n",
       "    }\n",
       "\n",
       "    .dataframe thead th {\n",
       "        text-align: right;\n",
       "    }\n",
       "</style>\n",
       "<table border=\"1\" class=\"dataframe\">\n",
       "  <thead>\n",
       "    <tr style=\"text-align: right;\">\n",
       "      <th></th>\n",
       "      <th>count(1)</th>\n",
       "      <th>special_page_Global</th>\n",
       "    </tr>\n",
       "  </thead>\n",
       "  <tbody>\n",
       "    <tr>\n",
       "      <th>0</th>\n",
       "      <td>8617</td>\n",
       "      <td>special_nearby</td>\n",
       "    </tr>\n",
       "    <tr>\n",
       "      <th>1</th>\n",
       "      <td>590</td>\n",
       "      <td>special_newpagesfeed</td>\n",
       "    </tr>\n",
       "  </tbody>\n",
       "</table>\n",
       "</div>"
      ],
      "text/plain": [
       "   count(1)   special_page_Global\n",
       "0      8617        special_nearby\n",
       "1       590  special_newpagesfeed"
      ]
     },
     "execution_count": 71,
     "metadata": {},
     "output_type": "execute_result"
    }
   ],
   "source": [
    "Global_special"
   ]
  },
  {
   "cell_type": "markdown",
   "id": "a6918c43-a66b-4c1e-90ee-d4e7dd4a3899",
   "metadata": {},
   "source": [
    "Unique users from the UK on the same day as the special pages request"
   ]
  },
  {
   "cell_type": "code",
   "execution_count": 72,
   "id": "53b39169-5836-4a78-9fb3-96547e50853e",
   "metadata": {},
   "outputs": [
    {
     "name": "stderr",
     "output_type": "stream",
     "text": [
      "                                                                                \r"
     ]
    },
    {
     "data": {
      "text/html": [
       "<div>\n",
       "<style scoped>\n",
       "    .dataframe tbody tr th:only-of-type {\n",
       "        vertical-align: middle;\n",
       "    }\n",
       "\n",
       "    .dataframe tbody tr th {\n",
       "        vertical-align: top;\n",
       "    }\n",
       "\n",
       "    .dataframe thead th {\n",
       "        text-align: right;\n",
       "    }\n",
       "</style>\n",
       "<table border=\"1\" class=\"dataframe\">\n",
       "  <thead>\n",
       "    <tr style=\"text-align: right;\">\n",
       "      <th></th>\n",
       "      <th>day</th>\n",
       "      <th>uk_unique_users</th>\n",
       "    </tr>\n",
       "  </thead>\n",
       "  <tbody>\n",
       "    <tr>\n",
       "      <th>0</th>\n",
       "      <td>2025-03-25</td>\n",
       "      <td>3651295</td>\n",
       "    </tr>\n",
       "  </tbody>\n",
       "</table>\n",
       "</div>"
      ],
      "text/plain": [
       "          day  uk_unique_users\n",
       "0  2025-03-25          3651295"
      ]
     },
     "execution_count": 72,
     "metadata": {},
     "output_type": "execute_result"
    }
   ],
   "source": [
    "UK_unique_users=wmf.spark.run(\"\"\"\n",
    "\n",
    "SELECT\n",
    "day, \n",
    "CAST ((SUM (uniques_estimate)/2.4) AS INT) AS uk_unique_users\n",
    "FROM wmf_readership.unique_devices_per_project_family_daily\n",
    "WHERE\n",
    "country_code = 'GB'\n",
    "AND day IN\n",
    "(\n",
    "'2025-03-25'\n",
    ")\n",
    "GROUP BY day\n",
    "\"\"\")\n",
    "\n",
    "UK_unique_users"
   ]
  },
  {
   "cell_type": "code",
   "execution_count": 73,
   "id": "84cdeccc-b42c-433f-8a5d-300574c91474",
   "metadata": {},
   "outputs": [],
   "source": [
    "Absolute_proportion= (UK_special['count(1)'] / UK_unique_users['uk_unique_users'])*100"
   ]
  },
  {
   "cell_type": "code",
   "execution_count": 74,
   "id": "d31d9d66-3b7f-4baa-bc6f-69fd2092171e",
   "metadata": {},
   "outputs": [
    {
     "data": {
      "text/plain": [
       "0    0.008928\n",
       "1         NaN\n",
       "dtype: float64"
      ]
     },
     "execution_count": 74,
     "metadata": {},
     "output_type": "execute_result"
    }
   ],
   "source": [
    "Absolute_proportion"
   ]
  },
  {
   "cell_type": "markdown",
   "id": "b7c6a36a-b4f9-4b61-8d01-ddea5c1389aa",
   "metadata": {},
   "source": [
    "##### Requests to Special:Nearby make up close to 0.01% of the total unique users in the UK in a single day.  Requests to Special:Newpagefeeds is even lower. \n",
    "#### Therefore, UK users aren't requesting for these two pages. "
   ]
  },
  {
   "cell_type": "code",
   "execution_count": null,
   "id": "52472b4e-4099-44f8-92ed-3b1fd1617dd5",
   "metadata": {},
   "outputs": [],
   "source": []
  }
 ],
 "metadata": {
  "kernelspec": {
   "display_name": "Python 3 (ipykernel)",
   "language": "python",
   "name": "python3"
  },
  "language_info": {
   "codemirror_mode": {
    "name": "ipython",
    "version": 3
   },
   "file_extension": ".py",
   "mimetype": "text/x-python",
   "name": "python",
   "nbconvert_exporter": "python",
   "pygments_lexer": "ipython3",
   "version": "3.10.16"
  }
 },
 "nbformat": 4,
 "nbformat_minor": 5
}
